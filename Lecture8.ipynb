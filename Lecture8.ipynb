{
 "cells": [
  {
   "cell_type": "markdown",
   "metadata": {},
   "source": [
    "# Graph Theory II: Minimum Spanning Trees\n",
    "\n",
    "Def: A ** walk** is a sequence of vertices connected by edges.\n",
    "\n",
    "Def: A **path** is a walk where each vertex is different.\n",
    "\n",
    "Lemma 1: If $\\exists$ walk from u to v, then $\\exists$ path from u to v\n",
    "\n",
    "You can just talk out the parts of the walk that are redundant.\n",
    "\n",
    "Prrof: $\\exists$ walk from u to v.  \n",
    "\n",
    "By well ordering principle...\n",
    "\n",
    "Def: u and v are **connected** if there is a path from u to v\n",
    "\n",
    "Def: A graph is **connected** when every pair of vertices are connected.\n",
    "\n",
    "Def: A **closed walk** is a walk which starts and ends at the same vertex.  Also called a **cycle**.\n",
    "\n",
    "Def: A connceted and acyclic graph is called a **tree**\n",
    "\n",
    "Def: A **leaf** is a node with degree 1 in a tree\n",
    "\n",
    "Def: A **leaf** is a node with degree 1 in a tree.\n",
    "\n",
    "Lemma: Any connected subgraph of a tree is a tree\n",
    "\n",
    "Lemma: A tree with n vertices has n-1 edges\n",
    "\n",
    "Pf: By induction on n\n",
    "P(n) = 'There are n-1 edges for a tree with n vertices'\n",
    "P(1) = Base case, there are 0 edges\n",
    "Inductive step:  Suppose P(n)\n",
    "Let the tree with n+1 vertices\n",
    "Let v be a leaf of the tree\n",
    "Delete v: this creates connected subgraph\n",
    "By P(n): it has n-1 edges\n",
    "Re-attach v: T has (n-1) + n = n edges\n",
    "\n",
    "Def: A **spanning tree** (ST) of a connected graph is a subgraph that is a tree with the same vertices as the graph\n",
    "\n",
    "Thm: Every connected graph has a spanning tree\n",
    "\n",
    "Pf: By contradiction:  Assume a connected graph G has no ST.\n",
    "Let T be a connected subgraph of G with the same number of vertices as G and with the smallest number of edges possible.  T is not a ST.  So it must have a cycle.  If we remove one edge of the cycle, we still have a connected subgraph.  So now we have a subgraph T' with a smaller number of edges than T.  This contradicts, so G must have a ST.\n",
    "\n",
    "Add weights to a graph.\n",
    "\n",
    "Weight of a spanning tree is just the sum of all of the weights.\n",
    "\n",
    "Def: The MST of an edge-weighted graph G is the ST of G with the smallest possible sum of edge weights.\n",
    "\n",
    "Algorithm:\n",
    "\n",
    "- Grow a subgraph one edge at a time\n",
    "\n",
    "Lemma: Let $S$ consist of the first m edges selected by the algorithm.  Then $\\exists$ MST $T=(V,E)$ for G such that \n",
    "\n",
    "Pf: #V = n\n",
    "\n",
    "1) If n\n",
    "\n"
   ]
  },
  {
   "cell_type": "code",
   "execution_count": null,
   "metadata": {
    "collapsed": true
   },
   "outputs": [],
   "source": []
  }
 ],
 "metadata": {
  "kernelspec": {
   "display_name": "Python 2",
   "language": "python",
   "name": "python2"
  },
  "language_info": {
   "codemirror_mode": {
    "name": "ipython",
    "version": 2
   },
   "file_extension": ".py",
   "mimetype": "text/x-python",
   "name": "python",
   "nbconvert_exporter": "python",
   "pygments_lexer": "ipython2",
   "version": "2.7.10"
  }
 },
 "nbformat": 4,
 "nbformat_minor": 0
}
